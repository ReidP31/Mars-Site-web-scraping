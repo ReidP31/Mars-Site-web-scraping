{
 "cells": [
  {
   "cell_type": "code",
   "execution_count": 11,
   "metadata": {},
   "outputs": [],
   "source": [
    "# Import Dependencies\n",
    "from bs4 import BeautifulSoup\n",
    "import requests\n",
    "from splinter import Browser\n",
    "import time \n"
   ]
  },
  {
   "cell_type": "markdown",
   "metadata": {},
   "source": [
    "# Scraping"
   ]
  },
  {
   "cell_type": "markdown",
   "metadata": {},
   "source": [
    "### Mars News Title"
   ]
  },
  {
   "cell_type": "code",
   "execution_count": 12,
   "metadata": {},
   "outputs": [],
   "source": [
    "# Get the URL to be scraped\n",
    "mars_news_url = \"https://mars.nasa.gov/news/\\\n",
    "?page=0&per_page=40&order=publish_date+desc%2Ccreated_at+desc&search=&year\\\n",
    "=2019%3Apublish_date&category=19%2C165%2C184%2C204&blank_scope=Latest\"\n",
    "\n"
   ]
  },
  {
   "cell_type": "code",
   "execution_count": 34,
   "metadata": {},
   "outputs": [],
   "source": [
    "# Create Splinter Browser Instance\n",
    "browser = Browser('chrome')\n",
    "browser.visit(mars_news_url)\n",
    "\n",
    "mars_news_html = browser.html\n",
    "mars_news_soup = BeautifulSoup(mars_news_html, 'html5lib')"
   ]
  },
  {
   "cell_type": "code",
   "execution_count": 35,
   "metadata": {
    "scrolled": false
   },
   "outputs": [
    {
     "name": "stdout",
     "output_type": "stream",
     "text": [
      "\"NASA's Mars 2020 Heads Into the Test Chamber\"\n",
      "\n",
      "In this time-lapse video taken at JPL, engineers move the Mars 2020 rover into a large vacuum chamber for testing in Mars-like environmental conditions.\n"
     ]
    }
   ],
   "source": [
    "# Capture the Latest Mars News Title\n",
    "latest_title = mars_news_soup.find(\"h3\").text\n",
    "print(f'\"{latest_title}\"')\n",
    "\n",
    "print(\"\"\"\"\"\")\n",
    "\n",
    "# Capture the Latest Mars News Paragraph Text\n",
    "latest_pgraph = mars_news_soup.find(\"div\", class_=\"article_teaser_body\").text\n",
    "print(latest_pgraph)\n"
   ]
  },
  {
   "cell_type": "markdown",
   "metadata": {},
   "source": [
    "### JPL Featured Image"
   ]
  },
  {
   "cell_type": "code",
   "execution_count": 37,
   "metadata": {},
   "outputs": [],
   "source": [
    "# Use Splinter to find JPL Featured Image\n",
    "jpl_url = \"https://www.jpl.nasa.gov/spaceimages/?search=&category=Mars\"\n",
    "\n",
    "# Create Spliner Browser Instance\n",
    "jpl_browser = Browser('chrome')\n",
    "\n",
    "# Visit JPL Mars Images page\n",
    "jpl_browser.visit(jpl_url)\n",
    "\n",
    "# Click the JPL Featured Image 'Full Image' button (link)\n",
    "jpl_browser.click_link_by_id('full_image')\n",
    "\n",
    "# Allow the page to load completely\n",
    "time.sleep(2)\n",
    "\n",
    "# Click on the 'More Info' button (link) in order to get to Large Image\n",
    "jpl_browser.click_link_by_partial_href('/spaceimages/details.php')\n",
    "\n",
    "# Allow the page to load completely\n",
    "time.sleep(2)\n",
    "\n",
    "# Get Large Image HTML & Parse\n",
    "jpl_lg_img_html = jpl_browser.html\n",
    "jpl_lg_img_soup = BeautifulSoup(jpl_lg_img_html, 'html5lib')\n",
    "\n",
    "# Capture JPL Large Featured Image\n",
    "featured_img_lg_url = \"jpl.nasa.gov\" + jpl_lg_img_soup.find(\"img\",class_=\"main_image\")['src']"
   ]
  },
  {
   "cell_type": "markdown",
   "metadata": {},
   "source": [
    "### Mars Weather"
   ]
  },
  {
   "cell_type": "code",
   "execution_count": 31,
   "metadata": {},
   "outputs": [],
   "source": [
    "# Use Splinter to find Mars Weather Info\n",
    "mars_weather_feed = \"https://twitter.com/marswxreport?lang=en\"\n",
    "\n",
    "# Navigate to the Mars Weather Twitter Feed\n",
    "twitter_browser = Browser('chrome')\n",
    "twitter_browser.visit(mars_weather_feed)\n",
    "\n",
    "# Scrape the Mars Weather Feed & Parse\n",
    "mars_weather_feed_html = twitter_browser.html\n",
    "mars_weather_feed_soup = BeautifulSoup(mars_weather_feed_html,'html5lib')\n",
    "\n",
    "# Capture the Latest Mars Weather Report\n",
    "mars_weather = mars_weather_feed_soup.find(\"div\", class_=\"js-tweet-text-container\").find('p').text.replace(\"\\n\",\" \")"
   ]
  },
  {
   "cell_type": "markdown",
   "metadata": {},
   "source": [
    "### Mars Facts"
   ]
  },
  {
   "cell_type": "code",
   "execution_count": 46,
   "metadata": {},
   "outputs": [],
   "source": [
    "# Import Pandas\n",
    "import pandas as pd\n",
    "\n",
    "# Define the URL \n",
    "mars_facts_url = \"https://space-facts.com/mars/\"\n",
    "\n",
    "# Use Pandas to scrape the Mars Facts page for tables\n",
    "mars_facts_tables = pd.read_html(mars_facts_url)\n",
    "\n",
    "# Convert Scraped HTML to a DataFrame, rename the columns, and set the index\n",
    "mars_facts_df = mars_facts_tables[0]\n",
    "mars_facts_df = mars_facts_df.rename(columns= {0:'Category',1:'Value'})\n",
    "mars_facts_df = mars_facts_df.set_index('Category')\n",
    "\n",
    "# Convert DataFrame to HTML table string\n",
    "mars_facts_html_table = mars_facts_df.to_html()\n",
    "mars_facts_html_table\n",
    "\n",
    "# Strip Unwanted characters\n",
    "mars_facts_html_table.replace(\"\\n\",\"\")\n",
    "\n",
    "# Save the HTML table to a file\n",
    "mars_facts_df.to_html('mars_facts_table.html')"
   ]
  },
  {
   "cell_type": "code",
   "execution_count": null,
   "metadata": {},
   "outputs": [],
   "source": []
  }
 ],
 "metadata": {
  "file_extension": ".py",
  "kernelspec": {
   "display_name": "Python [conda env:PythonData] *",
   "language": "python",
   "name": "conda-env-PythonData-py"
  },
  "language_info": {
   "codemirror_mode": {
    "name": "ipython",
    "version": 3
   },
   "file_extension": ".py",
   "mimetype": "text/x-python",
   "name": "python",
   "nbconvert_exporter": "python",
   "pygments_lexer": "ipython3",
   "version": "3.6.8"
  },
  "mimetype": "text/x-python",
  "name": "python",
  "npconvert_exporter": "python",
  "pygments_lexer": "ipython3",
  "version": 3
 },
 "nbformat": 4,
 "nbformat_minor": 2
}
